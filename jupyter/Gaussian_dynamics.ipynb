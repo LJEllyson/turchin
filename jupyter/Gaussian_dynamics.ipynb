{
 "cells": [
  {
   "cell_type": "code",
   "execution_count": 3,
   "metadata": {
    "collapsed": true
   },
   "outputs": [],
   "source": [
    "import pandas as pd \n",
    "import numpy as np\n",
    "from sklearn.preprocessing import StandardScaler\n",
    "from sklearn.mixture import GaussianMixture as GMM\n",
    "from matplotlib import pyplot as plt, cm as cm, mlab as mlab\n",
    "import seaborn as sns; sns.set()\n",
    "import progressbar as pb\n",
    "import time \n",
    "import math\n",
    "from sklearn.decomposition import PCA, FastICA"
   ]
  },
  {
   "cell_type": "code",
   "execution_count": 4,
   "metadata": {
    "collapsed": true
   },
   "outputs": [],
   "source": [
    "# read csv/excel data files \n",
    "pnas_data1 = pd.read_csv('/home/jaeweon/research/data/pnas_data1.csv')\n",
    "\n",
    "pd.set_option('display.max_columns', None)\n",
    "pd.set_option('display.max_rows', None)"
   ]
  },
  {
   "cell_type": "code",
   "execution_count": 5,
   "metadata": {
    "collapsed": true
   },
   "outputs": [],
   "source": [
    "# format data \n",
    "\n",
    "# extract 9 Complexity Characteristic variables \n",
    "features = ['PolPop', 'PolTerr', 'CapPop', 'levels', 'government','infrastr', 'writing', 'texts', 'money']\n",
    "\n",
    "# take subset of original data table with 9 CCs and change it into numpy array \n",
    "data_mat = pnas_data1.loc[:, features].values\n",
    "scaled = StandardScaler().fit_transform(data_mat)"
   ]
  },
  {
   "cell_type": "code",
   "execution_count": 10,
   "metadata": {},
   "outputs": [],
   "source": [
    "#Gaussian Mixture Model \n",
    "#fit GMM\n",
    "gmm = GMM(n_components=2).fit(data_mat)\n",
    "prob_distr = gmm.predict_proba(data_mat)\n",
    "\n",
    "gauss1_idx = [i for i in range(len(prob_distr)) if prob_distr[i][0] >= prob_distr[i][1]]\n",
    "gauss2_idx = [j for j in range(len(prob_distr)) if prob_distr[j][1] >= prob_distr[j][0]]\n",
    "\n",
    "\n",
    "\n",
    "\n"
   ]
  },
  {
   "cell_type": "code",
   "execution_count": null,
   "metadata": {
    "collapsed": true
   },
   "outputs": [],
   "source": []
  }
 ],
 "metadata": {
  "kernelspec": {
   "display_name": "Python 3",
   "language": "python",
   "name": "python3"
  },
  "language_info": {
   "codemirror_mode": {
    "name": "ipython",
    "version": 3
   },
   "file_extension": ".py",
   "mimetype": "text/x-python",
   "name": "python",
   "nbconvert_exporter": "python",
   "pygments_lexer": "ipython3",
   "version": "3.6.3"
  }
 },
 "nbformat": 4,
 "nbformat_minor": 2
}
