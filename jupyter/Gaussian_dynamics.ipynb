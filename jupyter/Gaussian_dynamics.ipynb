{
 "cells": [
  {
   "cell_type": "code",
   "execution_count": 78,
   "metadata": {},
   "outputs": [],
   "source": [
    "import pandas as pd \n",
    "import numpy as np\n",
    "from sklearn.preprocessing import StandardScaler\n",
    "from sklearn.mixture import GaussianMixture as GMM\n",
    "from sklearn.decomposition import PCA, FastICA\n",
    "from sklearn import linear_model\n",
    "from matplotlib import pyplot as plt, cm as cm, mlab as mlab\n",
    "import seaborn as sns; sns.set()\n",
    "import progressbar as pb\n",
    "import time \n",
    "import math\n",
    "from scipy.optimize import minimize              # for function minimization\n",
    "import scipy.stats as scs\n",
    "import statsmodels.formula.api as smf       \n",
    "import statsmodels.tsa.api as smt\n",
    "import statsmodels.api as sm"
   ]
  },
  {
   "cell_type": "code",
   "execution_count": 79,
   "metadata": {
    "collapsed": true
   },
   "outputs": [],
   "source": [
    "# read csv/excel data files \n",
    "pnas_data1 = pd.read_csv('/home/jaeweon/research/data/pnas_data1.csv')\n",
    "\n",
    "pd.set_option('display.max_columns', None)\n",
    "pd.set_option('display.max_rows', None)"
   ]
  },
  {
   "cell_type": "code",
   "execution_count": 80,
   "metadata": {},
   "outputs": [],
   "source": [
    "# format data \n",
    "\n",
    "# extract 9 Complexity Characteristic variables \n",
    "features = ['PolPop', 'PolTerr', 'CapPop', 'levels', 'government','infrastr', 'writing', 'texts', 'money']\n",
    "feature_time = ['Time'] + features\n",
    "\n",
    "# take subset of original data table with 9 CCs and change it into numpy array \n",
    "data_mat = StandardScaler().fit_transform(pnas_data1.loc[:, features].values)"
   ]
  },
  {
   "cell_type": "code",
   "execution_count": 87,
   "metadata": {},
   "outputs": [],
   "source": [
    "#Gaussian Mixture Model \n",
    "#fit GMM\n",
    "gmm = GMM(n_components=2).fit(data_mat)\n",
    "cov = gmm.covariances_\n",
    "prob_distr = gmm.predict_proba(data_mat)\n",
    "\n",
    "gauss1_idx = [i for i in range(len(prob_distr)) if prob_distr[i][0] >= prob_distr[i][1]]\n",
    "gauss2_idx = [j for j in range(len(prob_distr)) if prob_distr[j][1] >= prob_distr[j][0]]\n",
    "gauss1 = [data_mat[:,0][i] for i in gauss1_idx]\n",
    "gauss2 = [data_mat[:,0][j] for j in gauss2_idx]"
   ]
  },
  {
   "cell_type": "code",
   "execution_count": 82,
   "metadata": {},
   "outputs": [
    {
     "ename": "TypeError",
     "evalue": "fit() missing 2 required positional arguments: 'X' and 'y'",
     "output_type": "error",
     "traceback": [
      "\u001b[0;31m---------------------------------------------------------------------------\u001b[0m",
      "\u001b[0;31mTypeError\u001b[0m                                 Traceback (most recent call last)",
      "\u001b[0;32m<ipython-input-82-1c89ddc2f7e8>\u001b[0m in \u001b[0;36m<module>\u001b[0;34m()\u001b[0m\n\u001b[1;32m      1\u001b[0m \u001b[0;31m# Multiple linear regression over time\u001b[0m\u001b[0;34m\u001b[0m\u001b[0;34m\u001b[0m\u001b[0m\n\u001b[1;32m      2\u001b[0m \u001b[0mols\u001b[0m \u001b[0;34m=\u001b[0m \u001b[0mlinear_model\u001b[0m\u001b[0;34m.\u001b[0m\u001b[0mLinearRegression\u001b[0m\u001b[0;34m(\u001b[0m\u001b[0;34m)\u001b[0m\u001b[0;34m\u001b[0m\u001b[0m\n\u001b[0;32m----> 3\u001b[0;31m \u001b[0mmodel\u001b[0m \u001b[0;34m=\u001b[0m \u001b[0mols\u001b[0m\u001b[0;34m.\u001b[0m\u001b[0mfit\u001b[0m\u001b[0;34m(\u001b[0m\u001b[0;34m)\u001b[0m\u001b[0;34m\u001b[0m\u001b[0m\n\u001b[0m",
      "\u001b[0;31mTypeError\u001b[0m: fit() missing 2 required positional arguments: 'X' and 'y'"
     ]
    }
   ],
   "source": [
    "# Multiple linear regression over time\n",
    "ols = linear_model.LinearRegression()\n",
    "model = ols.fit()"
   ]
  },
  {
   "cell_type": "code",
   "execution_count": 83,
   "metadata": {},
   "outputs": [],
   "source": [
    "# pca components \n",
    "pca = PCA(n_components=9)\n",
    "pca.fit(data_mat)\n",
    "components = pca.components_"
   ]
  },
  {
   "cell_type": "code",
   "execution_count": 84,
   "metadata": {
    "collapsed": true
   },
   "outputs": [],
   "source": [
    "# calculate angle between two vectors \n",
    "def angle(vec1, vec2):\n",
    "    \"\"\"\n",
    "    Given two vectors, compute the angle between the vectors\n",
    "    \"\"\"\n",
    "    assert vec1.shape == vec2.shape\n",
    "    \n",
    "    cos_vec = np.inner(vec1, vec2)/(np.linalg.norm(vec1)*np.linalg.norm(vec2))\n",
    "    angle = math.acos(cos_vec)\n",
    "    in_deg = math.degrees(angle)\n",
    "    if in_deg >= 90:\n",
    "        return (180-in_deg)\n",
    "    return in_deg\n"
   ]
  },
  {
   "cell_type": "code",
   "execution_count": 85,
   "metadata": {},
   "outputs": [
    {
     "name": "stdout",
     "output_type": "stream",
     "text": [
      "angle using first 2 components:  12.495913311568557\n",
      "angle using first 3 components:  30.86984463794994\n",
      "angle using first 4 components:  34.137423612232794\n",
      "angle using first 5 components:  43.81706490089974\n",
      "angle using first 6 components:  45.12623621762637\n",
      "angle using first 7 components:  45.621579754337915\n",
      "angle using first 8 components:  39.658912681329156\n",
      "angle using first 9 components:  33.56245604869352\n"
     ]
    }
   ],
   "source": [
    "# main eigenvectors for covariances of each gaussians\n",
    "eigval1, eigvec1 = np.linalg.eig(cov[0])\n",
    "eigval2, eigvec2 = np.linalg.eig(cov[1])\n",
    "\n",
    "max_eigval1 = max(eigval1); max_eigvec1 = eigvec1[:, np.argmax(max_eigval1)]\n",
    "max_eigval2 = max(eigval2); max_eigvec2 = eigvec2[:, np.argmax(max_eigval2)]\n",
    "\n",
    "comp1 = np.matmul(max_eigvec1.T, components)\n",
    "comp2 = np.matmul(max_eigvec2.T, components)\n",
    "\n",
    "for i in range(1, len(components)): # angle using only some components\n",
    "    print(\"angle using first %s components: \" %(i+1), angle(comp1[:i+1], comp2[:i+1]))"
   ]
  },
  {
   "cell_type": "code",
   "execution_count": null,
   "metadata": {
    "collapsed": true
   },
   "outputs": [],
   "source": [
    "    "
   ]
  }
 ],
 "metadata": {
  "kernelspec": {
   "display_name": "Python 3",
   "language": "python",
   "name": "python3"
  },
  "language_info": {
   "codemirror_mode": {
    "name": "ipython",
    "version": 3
   },
   "file_extension": ".py",
   "mimetype": "text/x-python",
   "name": "python",
   "nbconvert_exporter": "python",
   "pygments_lexer": "ipython3",
   "version": "3.6.3"
  }
 },
 "nbformat": 4,
 "nbformat_minor": 2
}
