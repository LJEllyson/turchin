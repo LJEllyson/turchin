{
 "cells": [
  {
   "cell_type": "code",
   "execution_count": 2,
   "metadata": {
    "collapsed": true
   },
   "outputs": [],
   "source": [
    "import pandas as pd \n",
    "import numpy as np\n",
    "from sklearn.preprocessing import StandardScaler\n",
    "from sklearn.mixture import GaussianMixture as GMM\n",
    "from sklearn.decomposition import PCA, FastICA\n",
    "from sklearn import linear_model\n",
    "from matplotlib import pyplot as plt, cm as cm, mlab as mlab\n",
    "import seaborn as sns; sns.set()\n",
    "import progressbar as pb\n",
    "import time \n",
    "import math"
   ]
  },
  {
   "cell_type": "code",
   "execution_count": 3,
   "metadata": {
    "collapsed": true
   },
   "outputs": [],
   "source": [
    "# read csv/excel data files \n",
    "pnas_data1 = pd.read_csv('/home/jaeweon/research/data/pnas_data1.csv')\n",
    "\n",
    "pd.set_option('display.max_columns', None)\n",
    "pd.set_option('display.max_rows', None)"
   ]
  },
  {
   "cell_type": "code",
   "execution_count": 4,
   "metadata": {
    "collapsed": true
   },
   "outputs": [],
   "source": [
    "# format data \n",
    "\n",
    "# extract 9 Complexity Characteristic variables \n",
    "features = ['PolPop', 'PolTerr', 'CapPop', 'levels', 'government','infrastr', 'writing', 'texts', 'money']\n",
    "feature_time = ['Time'] + features\n",
    "\n",
    "# take subset of original data table with 9 CCs and change it into numpy array \n",
    "data_mat = StandardScaler().fit_transform(pnas_data1.loc[:, features].values)\n",
    "time = pnas_data1.loc[:, ['Time']].values\n",
    "ngas = pnas_data1.NGA.unique().tolist()"
   ]
  },
  {
   "cell_type": "code",
   "execution_count": 5,
   "metadata": {
    "collapsed": true
   },
   "outputs": [],
   "source": [
    "#Gaussian Mixture Model \n",
    "#fit GMM\n",
    "gmm = GMM(n_components=2).fit(data_mat)\n",
    "cov = gmm.covariances_\n",
    "prob_distr = gmm.predict_proba(data_mat)\n",
    "\n",
    "# determine to which of the two gaussians each data point belongs by looking at probability distribution \n",
    "gauss1_idx = [i for i in range(len(prob_distr)) if prob_distr[i][0] >= prob_distr[i][1]]\n",
    "gauss2_idx = [j for j in range(len(prob_distr)) if prob_distr[j][1] >= prob_distr[j][0]]\n",
    "\n",
    "gauss1_time = [time[i] for i in gauss1_idx] # time for the first gaussian data\n",
    "gauss2_time = [time[j] for j in gauss2_idx] # time for the second gaussian data\n",
    "\n",
    "gauss1_point = [data_mat[i] for i in gauss1_idx] # 9-d data point for the first gaussian\n",
    "gauss2_point = [data_mat[j] for j in gauss2_idx] # 9-d data point for the second gaussian\n",
    "\n",
    "def dummy(data, ngas):\n",
    "    \"\"\"\n",
    "    Given a gaussian projection data and a list of unique ngas, \n",
    "    \"\"\"\n",
    "    # dummy variables for NGAs for fixed effects\n",
    "    dummy = [[1 if pnas_data1.loc[[point]].NGA.tolist()[0] == nga else 0 for nga in ngas] for point in data]\n",
    "    return np.asarray(dummy)\n",
    "\n",
    "dummy1 = dummy(gauss1_idx, ngas)\n",
    "dummy2 = dummy(gauss2_idx, ngas)"
   ]
  },
  {
   "cell_type": "code",
   "execution_count": 31,
   "metadata": {},
   "outputs": [],
   "source": [
    "# main eigenvectors for covariances of each gaussians\n",
    "eigval1, eigvec1 = np.linalg.eig(cov[0])\n",
    "eigval2, eigvec2 = np.linalg.eig(cov[1])\n",
    "\n",
    "# find the eigenvector corresponding to the largest eigenvalue for each of the two gaussians\n",
    "max_eigvec1 = eigvec1[:, np.argmax(max(eigval1))] \n",
    "max_eigvec2 = eigvec2[:, np.argmax(max(eigval2))]\n",
    "\n",
    "max_eigvec1 = np.asarray([(i**2)/math.sqrt(sum([k**2 for k in max_eigvec1])) for i in max_eigvec1])\n",
    "max_eigvec2 = np.asarray([(j**2)/math.sqrt(sum([k**2 for k in max_eigvec2])) for j in max_eigvec2])\n",
    "\n",
    "gauss1_proj = np.matmul(gauss1_point, max_eigvec1)\n",
    "gauss2_proj = np.matmul(gauss2_point, max_eigvec2)\n",
    "\n",
    "gauss1_proj = np.vstack((gauss1_proj.T, dummy1.T)).T\n",
    "gauss2_proj = np.vstack((gauss2_proj.T, dummy2.T)).T\n",
    "\n",
    "assert gauss1_proj.shape[1] == 31\n",
    "assert gauss2_proj.shape[1] == 31\n",
    "\n",
    "\n"
   ]
  },
  {
   "cell_type": "code",
   "execution_count": 13,
   "metadata": {},
   "outputs": [
    {
     "name": "stdout",
     "output_type": "stream",
     "text": [
      "coefficients for the first gaussian:  [[  6.80927554e-05]\n",
      " [  7.62957623e-05]\n",
      " [  3.24063740e-05]\n",
      " [  8.23973241e-05]\n",
      " [  8.92578547e-05]\n",
      " [  6.85178185e-06]\n",
      " [  7.39357854e-05]\n",
      " [  1.75632834e-05]\n",
      " [  8.90427392e-05]]\n",
      "intercept for the first gaussian:  [-0.87267076 -0.77659576 -0.87636923 -0.86867153 -0.89692591 -1.00803021\n",
      " -0.92917314 -1.13443541 -0.75302533]\n",
      "coefficients for the second gaussian:  [[  2.28832319e-04]\n",
      " [  2.02292057e-04]\n",
      " [  2.24820566e-04]\n",
      " [  1.93765370e-04]\n",
      " [  1.31266973e-04]\n",
      " [  9.46930566e-05]\n",
      " [ -1.60382663e-05]\n",
      " [  3.02910757e-05]\n",
      " [  3.60148920e-04]]\n",
      "intercept for the second gaussian:  [ 0.54221439  0.49045721  0.52860901  0.55639175  0.59597279  0.63977086\n",
      "  0.65150754  0.74632618  0.4364061 ]\n"
     ]
    }
   ],
   "source": [
    "# Multiple linear regression over time\n",
    "ols1 = linear_model.LinearRegression()\n",
    "ols2 = linear_model.LinearRegression()\n",
    "model1 = ols1.fit(gauss1_time, gauss1_point)\n",
    "model2 = ols2.fit(gauss2_time, gauss2_point)\n",
    "\n",
    "print(\"coefficients for the first gaussian: \", model1.coef_)\n",
    "print(\"intercept for the first gaussian: \", model1.intercept_)\n",
    "print(\"coefficients for the second gaussian: \",  model2.coef_)\n",
    "print(\"intercept for the second gaussian: \", model2.intercept_)"
   ]
  },
  {
   "cell_type": "code",
   "execution_count": 14,
   "metadata": {
    "collapsed": true
   },
   "outputs": [],
   "source": [
    "# pca components \n",
    "pca = PCA(n_components=9)\n",
    "pca.fit(data_mat)\n",
    "components = pca.components_"
   ]
  },
  {
   "cell_type": "code",
   "execution_count": 15,
   "metadata": {
    "collapsed": true
   },
   "outputs": [],
   "source": [
    "# calculate angle between two vectors \n",
    "def angle(vec1, vec2):\n",
    "    \"\"\"\n",
    "    Given two vectors, compute the angle between the vectors\n",
    "    \"\"\"\n",
    "    assert vec1.shape == vec2.shape\n",
    "    \n",
    "    cos_vec = np.inner(vec1, vec2)/(np.linalg.norm(vec1)*np.linalg.norm(vec2))\n",
    "    angle = math.acos(cos_vec)\n",
    "    in_deg = math.degrees(angle)\n",
    "    if in_deg >= 90:\n",
    "        return (180-in_deg)\n",
    "    return in_deg\n"
   ]
  },
  {
   "cell_type": "code",
   "execution_count": 35,
   "metadata": {},
   "outputs": [
    {
     "name": "stdout",
     "output_type": "stream",
     "text": [
      "main eigenvector for the first Gaussian: \n",
      " [ 0.16621229  0.03500665  0.01492127  0.30827476  0.04968685  0.09689898\n",
      "  0.00295621  0.13671527  0.18932772]\n",
      "main eigenvector for the second Gaussian: \n",
      " [ 0.09990924  0.05982705  0.09911285  0.02918806  0.036372    0.00938978\n",
      "  0.01628565  0.20719771  0.44271766]\n",
      "angle using first 2 components:  19.02029306298097\n",
      "angle using first 3 components:  39.294294946465826\n",
      "angle using first 4 components:  57.85934781569857\n",
      "angle using first 5 components:  56.99278245925929\n",
      "angle using first 6 components:  57.30938558450157\n",
      "angle using first 7 components:  57.44390137153195\n",
      "angle using first 8 components:  54.26227464957157\n",
      "angle using first 9 components:  50.098626784521805\n",
      "[ 0.06630305 -0.0248204  -0.08419158  0.2790867   0.01331484  0.08750921\n",
      " -0.01332944 -0.07048244 -0.25338994]\n"
     ]
    }
   ],
   "source": [
    "# examine where the angle between the two main eigenvectors for each gaussian comes from\n",
    "comp1 = np.matmul(max_eigvec1.T, components)\n",
    "norm_comp1 = np.asarray([(i**2)/sum([k**2 for k in comp1]) for i in comp1])\n",
    "comp2 = np.matmul(max_eigvec2.T, components)\n",
    "norm_comp2 = np.asarray([(j**2)/sum([k**2 for k in comp2]) for j in comp2])\n",
    "\n",
    "print(\"main eigenvector for the first Gaussian: \\n\", norm_comp1)\n",
    "print(\"main eigenvector for the second Gaussian: \\n\",norm_comp2)\n",
    "for i in range(1, len(components)): # angle using only some components\n",
    "    print(\"angle using first %s components: \" %(i+1), angle(norm_comp1[:i+1], norm_comp2[:i+1]))\n",
    "    \n",
    "print(norm_comp1-norm_comp2)"
   ]
  },
  {
   "cell_type": "code",
   "execution_count": null,
   "metadata": {
    "collapsed": true
   },
   "outputs": [],
   "source": [
    "# "
   ]
  }
 ],
 "metadata": {
  "kernelspec": {
   "display_name": "Python 3",
   "language": "python",
   "name": "python3"
  },
  "language_info": {
   "codemirror_mode": {
    "name": "ipython",
    "version": 3
   },
   "file_extension": ".py",
   "mimetype": "text/x-python",
   "name": "python",
   "nbconvert_exporter": "python",
   "pygments_lexer": "ipython3",
   "version": "3.6.3"
  }
 },
 "nbformat": 4,
 "nbformat_minor": 2
}
