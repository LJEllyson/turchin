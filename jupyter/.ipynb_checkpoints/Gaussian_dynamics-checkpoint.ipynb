{
 "cells": [
  {
   "cell_type": "code",
   "execution_count": 18,
   "metadata": {
    "collapsed": true
   },
   "outputs": [],
   "source": [
    "import pandas as pd \n",
    "import numpy as np\n",
    "from sklearn.preprocessing import StandardScaler\n",
    "from sklearn.mixture import GaussianMixture as GMM\n",
    "from sklearn.decomposition import PCA, FastICA\n",
    "from sklearn import linear_model\n",
    "from matplotlib import pyplot as plt, cm as cm, mlab as mlab\n",
    "import seaborn as sns; sns.set()\n",
    "import progressbar as pb\n",
    "import time \n",
    "import math"
   ]
  },
  {
   "cell_type": "code",
   "execution_count": 19,
   "metadata": {
    "collapsed": true
   },
   "outputs": [],
   "source": [
    "# read csv/excel data files \n",
    "pnas_data1 = pd.read_csv('/home/jaeweon/research/data/pnas_data1.csv')\n",
    "\n",
    "pd.set_option('display.max_columns', None)\n",
    "pd.set_option('display.max_rows', None)"
   ]
  },
  {
   "cell_type": "code",
   "execution_count": 20,
   "metadata": {
    "collapsed": true
   },
   "outputs": [],
   "source": [
    "# format data \n",
    "\n",
    "# extract 9 Complexity Characteristic variables \n",
    "features = ['PolPop', 'PolTerr', 'CapPop', 'levels', 'government','infrastr', 'writing', 'texts', 'money']\n",
    "feature_time = ['Time'] + features\n",
    "\n",
    "# take subset of original data table with 9 CCs and change it into numpy array \n",
    "data_mat = StandardScaler().fit_transform(pnas_data1.loc[:, features].values)\n",
    "time = pnas_data1.loc[:, ['Time']].values\n",
    "ngas = pnas_data1.NGA.unique().tolist()"
   ]
  },
  {
   "cell_type": "code",
   "execution_count": null,
   "metadata": {},
   "outputs": [],
   "source": [
    "#Gaussian Mixture Model \n",
    "#fit GMM\n",
    "gmm = GMM(n_components=2).fit(data_mat)\n",
    "cov = gmm.covariances_\n",
    "prob_distr = gmm.predict_proba(data_mat)\n",
    "\n",
    "# determine to which of the two gaussians each data point belongs by looking at probability distribution \n",
    "gauss1_idx = [i for i in range(len(prob_distr)) if prob_distr[i][0] >= prob_distr[i][1]]\n",
    "gauss2_idx = [j for j in range(len(prob_distr)) if prob_distr[j][1] >= prob_distr[j][0]]\n",
    "\n",
    "gauss1_time = [time[i] for i in gauss1_idx] # time for the first gaussian data\n",
    "gauss2_time = [time[j] for j in gauss2_idx] # time for the second gaussian data\n",
    "\n",
    "gauss1_point = [data_mat[i] for i in gauss1_idx] # 9-d data point for the first gaussian\n",
    "gauss2_point = [data_mat[j] for j in gauss2_idx] # 9-d data point for the second gaussian\n",
    "\n",
    "def dummy(data, ngas):\n",
    "    \"\"\"\n",
    "    Given a gaussian projection data and a list of unique ngas, \n",
    "    \"\"\"\n",
    "    # dummy variables for NGAs for fixed effects\n",
    "    dummy = [[1 if pnas_data1.loc[[point]].NGA.tolist()[0] == nga else 0 for nga in ngas] for point in data]\n",
    "    return np.asarray(dummy)\n",
    "\n",
    "dummy1 = dummy(gauss1_idx, ngas)\n",
    "dummy2 = dummy(gauss2_idx, ngas)"
   ]
  },
  {
   "cell_type": "code",
   "execution_count": 56,
   "metadata": {},
   "outputs": [],
   "source": [
    "# main eigenvectors for covariances of each gaussians\n",
    "eigval1, eigvec1 = np.linalg.eig(cov[0])\n",
    "eigval2, eigvec2 = np.linalg.eig(cov[1])\n",
    "\n",
    "# find the eigenvector corresponding to the largest eigenvalue for each of the two gaussians\n",
    "max_eigvec1 = eigvec1[:, np.argmax(max(eigval1))] \n",
    "max_eigvec2 = eigvec2[:, np.argmax(max(eigval2))]\n",
    "\n",
    "gauss1_proj = np.matmul(gauss1_point, max_eigvec1)\n",
    "gauss2_proj = np.matmul(gauss2_point, max_eigvec2)\n",
    "\n",
    "gauss1_proj = np.vstack((gauss1_proj.T, dummy1.T)).T\n",
    "gauss2_proj = np.vstack((gauss2_proj.T, dummy2.T)).T\n",
    "\n",
    "assert gauss1_proj.shape[1] == 31\n",
    "assert gauss2_proj.shape[1] == 31\n"
   ]
  },
  {
   "cell_type": "code",
   "execution_count": 57,
   "metadata": {},
   "outputs": [
    {
     "name": "stdout",
     "output_type": "stream",
     "text": [
      "coefficients for the first gaussian:  [[  2.28832319e-04]\n",
      " [  2.02292057e-04]\n",
      " [  2.24820566e-04]\n",
      " [  1.93765370e-04]\n",
      " [  1.31266973e-04]\n",
      " [  9.46930566e-05]\n",
      " [ -1.60382663e-05]\n",
      " [  3.02910757e-05]\n",
      " [  3.60148920e-04]]\n",
      "intercept for the first gaussian:  [ 0.54221439  0.49045721  0.52860901  0.55639175  0.59597279  0.63977086\n",
      "  0.65150754  0.74632618  0.4364061 ]\n",
      "coefficients for the second gaussian:  [[  6.80927554e-05]\n",
      " [  7.62957623e-05]\n",
      " [  3.24063740e-05]\n",
      " [  8.23973241e-05]\n",
      " [  8.92578547e-05]\n",
      " [  6.85178185e-06]\n",
      " [  7.39357854e-05]\n",
      " [  1.75632834e-05]\n",
      " [  8.90427392e-05]]\n",
      "intercept for the second gaussian:  [-0.87267076 -0.77659576 -0.87636923 -0.86867153 -0.89692591 -1.00803021\n",
      " -0.92917314 -1.13443541 -0.75302533]\n"
     ]
    }
   ],
   "source": [
    "# Multiple linear regression over time\n",
    "ols1 = linear_model.LinearRegression()\n",
    "ols2 = linear_model.LinearRegression()\n",
    "model1 = ols1.fit(gauss1_time, gauss1_point)\n",
    "model2 = ols2.fit(gauss2_time, gauss2_point)\n",
    "\n",
    "print(\"coefficients for the first gaussian: \", model1.coef_)\n",
    "print(\"intercept for the first gaussian: \", model1.intercept_)\n",
    "print(\"coefficients for the second gaussian: \",  model2.coef_)\n",
    "print(\"intercept for the second gaussian: \", model2.intercept_)"
   ]
  },
  {
   "cell_type": "code",
   "execution_count": 83,
   "metadata": {
    "collapsed": true
   },
   "outputs": [],
   "source": [
    "# pca components \n",
    "pca = PCA(n_components=9)\n",
    "pca.fit(data_mat)\n",
    "components = pca.components_"
   ]
  },
  {
   "cell_type": "code",
   "execution_count": 84,
   "metadata": {
    "collapsed": true
   },
   "outputs": [],
   "source": [
    "# calculate angle between two vectors \n",
    "def angle(vec1, vec2):\n",
    "    \"\"\"\n",
    "    Given two vectors, compute the angle between the vectors\n",
    "    \"\"\"\n",
    "    assert vec1.shape == vec2.shape\n",
    "    \n",
    "    cos_vec = np.inner(vec1, vec2)/(np.linalg.norm(vec1)*np.linalg.norm(vec2))\n",
    "    angle = math.acos(cos_vec)\n",
    "    in_deg = math.degrees(angle)\n",
    "    if in_deg >= 90:\n",
    "        return (180-in_deg)\n",
    "    return in_deg\n"
   ]
  },
  {
   "cell_type": "code",
   "execution_count": 138,
   "metadata": {},
   "outputs": [
    {
     "name": "stdout",
     "output_type": "stream",
     "text": [
      "[ 0.44786061  0.06604639  0.1315556   0.53394828 -0.19907041  0.21932552\n",
      "  0.0070829   0.39071195 -0.50220753]\n",
      "[-0.35292858 -0.1346638  -0.38086179 -0.2442904  -0.12845045 -0.03122347\n",
      " -0.08851483 -0.47627445  0.63279296]\n",
      "angle using first 2 components:  12.495913311568557\n",
      "angle using first 3 components:  30.86984463794994\n",
      "angle using first 4 components:  34.137423612232794\n",
      "angle using first 5 components:  43.81706490089974\n",
      "angle using first 6 components:  45.12623621762637\n",
      "angle using first 7 components:  45.621579754337915\n",
      "angle using first 8 components:  39.658912681329156\n",
      "angle using first 9 components:  33.56245604869352\n"
     ]
    }
   ],
   "source": [
    "# examine where the angle between the two main eigenvectors for each gaussian comes from\n",
    "comp1 = np.matmul(max_eigvec1.T, components)\n",
    "comp2 = np.matmul(max_eigvec2.T, components)\n",
    "\n",
    "print(comp1)\n",
    "print(comp2)\n",
    "for i in range(1, len(components)): # angle using only some components\n",
    "    print(\"angle using first %s components: \" %(i+1), angle(comp1[:i+1], comp2[:i+1]))"
   ]
  },
  {
   "cell_type": "code",
   "execution_count": null,
   "metadata": {
    "collapsed": true
   },
   "outputs": [],
   "source": [
    "# "
   ]
  }
 ],
 "metadata": {
  "kernelspec": {
   "display_name": "Python 3",
   "language": "python",
   "name": "python3"
  },
  "language_info": {
   "codemirror_mode": {
    "name": "ipython",
    "version": 3
   },
   "file_extension": ".py",
   "mimetype": "text/x-python",
   "name": "python",
   "nbconvert_exporter": "python",
   "pygments_lexer": "ipython3",
   "version": "3.6.3"
  }
 },
 "nbformat": 4,
 "nbformat_minor": 2
}
