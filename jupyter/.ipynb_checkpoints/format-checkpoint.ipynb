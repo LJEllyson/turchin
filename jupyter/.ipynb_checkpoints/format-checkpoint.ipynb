{
 "cells": [
  {
   "cell_type": "code",
   "execution_count": 2,
   "metadata": {
    "collapsed": true
   },
   "outputs": [],
   "source": [
    "import pandas as pd\n",
    "import numpy as np"
   ]
  },
  {
   "cell_type": "code",
   "execution_count": 3,
   "metadata": {
    "collapsed": true
   },
   "outputs": [],
   "source": [
    "raw = pd.read_excel('/home/jaeweon/research/data/raw.xlsx', encoding = 'ISO-8859-1')\n",
    "raw_corrected = pd.read_csv('/home/jaeweon/research/data/SCdat.csv', encoding = 'ISO-8859-1')"
   ]
  },
  {
   "cell_type": "code",
   "execution_count": 4,
   "metadata": {
    "collapsed": true
   },
   "outputs": [],
   "source": [
    "pd.set_option('display.max_columns', None)\n",
    "pd.set_option('display.max_rows', None)"
   ]
  },
  {
   "cell_type": "code",
   "execution_count": 5,
   "metadata": {},
   "outputs": [
    {
     "name": "stdout",
     "output_type": "stream",
     "text": [
      "              NGA   Polity                      Section  \\\n",
      "0  Ghanaian Coast  GhAshnE  Social Complexity variables   \n",
      "1  Ghanaian Coast  GhAshnE  Social Complexity variables   \n",
      "2  Ghanaian Coast  GhAshnE  Social Complexity variables   \n",
      "3  Ghanaian Coast  GhAshnE  Social Complexity variables   \n",
      "4  Ghanaian Coast  GhAshnE  Social Complexity variables   \n",
      "5  Ghanaian Coast  GhAshnE  Social Complexity variables   \n",
      "6  Ghanaian Coast  GhAshnE  Social Complexity variables   \n",
      "7  Ghanaian Coast  GhAshnE  Social Complexity variables   \n",
      "8  Ghanaian Coast  GhAshnE  Social Complexity variables   \n",
      "9  Ghanaian Coast  GhAshnE  Social Complexity variables   \n",
      "\n",
      "                Subsection                        Variable        Value From  \\\n",
      "0                      NaN                              RA        Eva Brandl   \n",
      "1                      NaN                          Editor    Daniel Mullins   \n",
      "2  Hierarchical Complexity            Settlement hierarchy                 3   \n",
      "3  Hierarchical Complexity           Administrative levels                 4   \n",
      "4  Hierarchical Complexity                Religious levels                 3   \n",
      "5  Hierarchical Complexity                 Military levels                 5   \n",
      "6              Professions         Occupational complexity            absent   \n",
      "7              Professions  Professional military officers            absent   \n",
      "8              Professions           Professional soldiers            absent   \n",
      "9              Professions         Professional priesthood  inferred present   \n",
      "\n",
      "   Value To Date From Date To Fact Type Value Note Date Note Comment  \n",
      "0       NaN       NaN     NaN    simple     simple       NaN     NaN  \n",
      "1       NaN       NaN     NaN    simple     simple       NaN     NaN  \n",
      "2       NaN       NaN     NaN    simple     simple       NaN     NaN  \n",
      "3       NaN       NaN     NaN    simple     simple       NaN     NaN  \n",
      "4       NaN       NaN     NaN    simple     simple       NaN     NaN  \n",
      "5       NaN       NaN     NaN    simple     simple       NaN     NaN  \n",
      "6       NaN       NaN     NaN    simple     simple       NaN     NaN  \n",
      "7       NaN       NaN     NaN    simple     simple       NaN     NaN  \n",
      "8       NaN       NaN     NaN    simple     simple       NaN     NaN  \n",
      "9       NaN       NaN     NaN    simple     simple       NaN     NaN  \n"
     ]
    },
    {
     "ename": "TypeError",
     "evalue": "pivot() takes from 1 to 4 positional arguments but 8 were given",
     "output_type": "error",
     "traceback": [
      "\u001b[0;31m---------------------------------------------------------------------------\u001b[0m",
      "\u001b[0;31mTypeError\u001b[0m                                 Traceback (most recent call last)",
      "\u001b[0;32m<ipython-input-5-5a706b0f378a>\u001b[0m in \u001b[0;36m<module>\u001b[0;34m()\u001b[0m\n\u001b[1;32m      3\u001b[0m \u001b[0mprint\u001b[0m\u001b[0;34m(\u001b[0m\u001b[0mdf\u001b[0m\u001b[0;34m)\u001b[0m\u001b[0;34m\u001b[0m\u001b[0m\n\u001b[1;32m      4\u001b[0m \u001b[0;34m\u001b[0m\u001b[0m\n\u001b[0;32m----> 5\u001b[0;31m \u001b[0mdf\u001b[0m\u001b[0;34m.\u001b[0m\u001b[0mpivot\u001b[0m\u001b[0;34m(\u001b[0m\u001b[0;34m'NGA'\u001b[0m\u001b[0;34m,\u001b[0m \u001b[0;34m'Polity'\u001b[0m\u001b[0;34m,\u001b[0m \u001b[0;34m'Variable'\u001b[0m\u001b[0;34m,\u001b[0m \u001b[0;34m'Value.From'\u001b[0m\u001b[0;34m,\u001b[0m \u001b[0;34m'Value.To'\u001b[0m\u001b[0;34m,\u001b[0m \u001b[0;34m'Date.From'\u001b[0m\u001b[0;34m,\u001b[0m \u001b[0;34m'Date.To'\u001b[0m\u001b[0;34m)\u001b[0m\u001b[0;34m\u001b[0m\u001b[0m\n\u001b[0m",
      "\u001b[0;31mTypeError\u001b[0m: pivot() takes from 1 to 4 positional arguments but 8 were given"
     ]
    }
   ],
   "source": [
    "var = raw.groupby(['NGA', 'Polity']).agg(['count'])\n",
    "df = raw[:10]\n",
    "print(df)\n",
    "\n",
    "df.pivot('NGA', 'Polity', 'Variable', 'Value.From', 'Value.To', 'Date.From', 'Date.To')\n"
   ]
  },
  {
   "cell_type": "code",
   "execution_count": null,
   "metadata": {
    "collapsed": true
   },
   "outputs": [],
   "source": []
  }
 ],
 "metadata": {
  "kernelspec": {
   "display_name": "Python 3",
   "language": "python",
   "name": "python3"
  },
  "language_info": {
   "codemirror_mode": {
    "name": "ipython",
    "version": 3
   },
   "file_extension": ".py",
   "mimetype": "text/x-python",
   "name": "python",
   "nbconvert_exporter": "python",
   "pygments_lexer": "ipython3",
   "version": "3.6.3"
  }
 },
 "nbformat": 4,
 "nbformat_minor": 2
}
