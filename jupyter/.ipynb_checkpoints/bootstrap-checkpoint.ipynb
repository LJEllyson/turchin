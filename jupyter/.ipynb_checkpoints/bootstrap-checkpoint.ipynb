{
 "cells": [
  {
   "cell_type": "code",
   "execution_count": 17,
   "metadata": {},
   "outputs": [],
   "source": [
    "import pandas as pd \n",
    "import numpy as np\n",
    "from sklearn.preprocessing import StandardScaler\n",
    "from sklearn.mixture import GaussianMixture as GMM\n",
    "from matplotlib import pyplot as plt, cm as cm, mlab as mlab\n",
    "import seaborn as sns; sns.set()\n",
    "import progressbar as pb\n",
    "import time \n",
    "import math"
   ]
  },
  {
   "cell_type": "code",
   "execution_count": 10,
   "metadata": {
    "collapsed": true
   },
   "outputs": [],
   "source": [
    "# read csv/excel data files \n",
    "pnas_data1 = pd.read_csv('/home/jaeweon/research/data/pnas_data1.csv')\n",
    "\n",
    "pd.set_option('display.max_columns', None)\n",
    "pd.set_option('display.max_rows', None)"
   ]
  },
  {
   "cell_type": "code",
   "execution_count": 12,
   "metadata": {},
   "outputs": [],
   "source": [
    "# format data \n",
    "\n",
    "# extract 9 Complexity Characteristic variables \n",
    "features = ['PolPop', 'PolTerr', 'CapPop', 'levels', 'government','infrastr', 'writing', 'texts', 'money']\n",
    "\n",
    "# take subset of original data table with 9 CCs and change it into numpy array \n",
    "data_mat = pnas_data1.loc[:, features].values\n",
    "scaled = StandardScaler().fit_transform(data_mat)"
   ]
  },
  {
   "cell_type": "code",
   "execution_count": 13,
   "metadata": {
    "collapsed": true
   },
   "outputs": [],
   "source": [
    "# class for progressbar\n",
    "class progress_timer:\n",
    "\n",
    "    def __init__(self, n_iter, description=\"Something\"):\n",
    "        self.n_iter = n_iter\n",
    "        self.iter = 0\n",
    "        self.description = description + ': '\n",
    "        self.timer = None\n",
    "        self.initialize()\n",
    "\n",
    "    def initialize(self):\n",
    "        #initialize timer\n",
    "        widgets = [self.description, pb.Percentage(), ' ',   \n",
    "                   pb.Bar(marker=pb.RotatingMarker()), ' ', pb.ETA()]\n",
    "        self.timer = pb.ProgressBar(widgets=widgets, maxval=self.n_iter).start()\n",
    "\n",
    "    def update(self, q=1):\n",
    "        #update timer\n",
    "        self.timer.update(self.iter)\n",
    "        self.iter += q\n",
    "\n",
    "    def finish(self):\n",
    "        #end timer\n",
    "        self.timer.finish()"
   ]
  },
  {
   "cell_type": "code",
   "execution_count": 14,
   "metadata": {
    "collapsed": true
   },
   "outputs": [],
   "source": [
    "# angle between vectors and various measurements for errors \n",
    "\n",
    "def angle(vec1, vec2):\n",
    "    \"\"\"\n",
    "    Given two vectors, compute the angle between the vectors\n",
    "    \"\"\"\n",
    "    assert vec1.shape == vec2.shape\n",
    "    \n",
    "    cos_vec = np.inner(vec1, vec2)/(np.linalg.norm(vec1)*np.linalg.norm(vec2))\n",
    "    angle = math.acos(cos_vec)\n",
    "    in_deg = math.degrees(angle)\n",
    "    if in_deg >= 90:\n",
    "        return (180-in_deg)\n",
    "    return in_deg\n",
    "\n",
    "def angle_error(ang1, ang2):\n",
    "    \"\"\"\n",
    "    Given two angles, compute the relative error\n",
    "    \"\"\"\n",
    "    if ang1 >= 90 and ang2 < 90:\n",
    "        return abs((180-ang1)-ang2)/(180-ang1)\n",
    "    elif ang1 < 90 and ang2 >= 90:\n",
    "        return abs(ang1-(180-ang2))/(ang1)\n",
    "    elif ang1 >= 90 and ang2 >= 90:\n",
    "        return abs((180-ang1)-(180-ang2))/(180-ang1)\n",
    "    else:\n",
    "        return abs(ang1-ang2)/ang1\n",
    "\n",
    "def vec_error(original, bst):\n",
    "    \"\"\"\n",
    "    Given two n-dim vectors, one from the original and one from bootstrapping, compute the relative error\n",
    "    between these two vectors\n",
    "    \"\"\"\n",
    "    assert original.shape == bst.shape \n",
    "    \n",
    "    return np.linalg.norm(original-bst)/np.linalg.norm(original)\n",
    "\n",
    "def error(val1, val2):\n",
    "    \"\"\"\n",
    "    Given two values, compute the relative error\n",
    "    \"\"\"\n",
    "    return abs(val1-val2)/val1\n"
   ]
  },
  {
   "cell_type": "code",
   "execution_count": 15,
   "metadata": {
    "collapsed": true
   },
   "outputs": [],
   "source": [
    "#eigenvalues and eigenvectors for covariance matrix. Determine which of the two components they belong to by \n",
    "#the weights of the gaussians\n",
    "\n",
    "def eig(mat):\n",
    "    \"\"\"\n",
    "    Given a list of two matrices, compute the largest eigenvalues' proportion over sum of all eigenvalues as well \n",
    "    as the corresponding eigenvectors\n",
    "    \"\"\"\n",
    "    eig_val1, eig_vec1 = np.linalg.eig(mat[0])\n",
    "    eig_val2, eig_vec2 = np.linalg.eig(mat[1])\n",
    "    \n",
    "    assert eig_vec1.shape == eig_vec2.shape\n",
    "    assert len(eig_val1) == len(eig_val2)\n",
    "    \n",
    "    # proportion of largest eigenvalue with respect to each component\n",
    "    val1 = max(eig_val1)/sum(eig_val1)\n",
    "    val2 = max(eig_val2)/sum(eig_val2)\n",
    "    \n",
    "    # eigenvector corresponding to the largest eigenvalue with respect to each component\n",
    "    vec1 = eig_vec1[:,np.argmax(eig_val1)]\n",
    "    vec2 = eig_vec2[:,np.argmax(eig_val2)]\n",
    "    \n",
    "    assert vec1.shape == vec2.shape\n",
    "    \n",
    "    return val1, val2, vec1, vec2\n",
    "\n",
    "\n",
    "def weight_set(cov_mat):\n",
    "    \"\"\"\n",
    "    Given gmm model, set the component with larger weight to be the first component and the component with\n",
    "    smaller weight to be the second component\n",
    "    \"\"\"\n",
    "    \n",
    "    val1, val2, vec1, vec2 = eig(cov_mat) #eigenvalues and eigenvecotrs for covariance matrices\n",
    "\n",
    "    # designate the larger component to be the component1 and the smaller component the component2 \n",
    "    if gmm.weights_[0] > gmm.weights_[1]:\n",
    "        return val1, val2, vec1, vec2\n",
    "    else:\n",
    "        return val2, val1, vec2, vec1\n"
   ]
  },
  {
   "cell_type": "code",
   "execution_count": 18,
   "metadata": {},
   "outputs": [
    {
     "name": "stderr",
     "output_type": "stream",
     "text": [
      "boostrapping: 100% ||                                          | Time:  0:19:58\n"
     ]
    },
    {
     "data": {
      "image/png": "[encoded data removed]",
      "text/plain": [
       "<matplotlib.figure.Figure at 0x7f79909b1dd8>"
      ]
     },
     "metadata": {},
     "output_type": "display_data"
    },
    {
     "data": {
      "image/png": "[encoded data removed]",
      "text/plain": [
       "<matplotlib.figure.Figure at 0x7f79882497b8>"
      ]
     },
     "metadata": {},
     "output_type": "display_data"
    },
    {
     "data": {
      "image/png": "[encoded data removed]",
      "text/plain": [
       "<matplotlib.figure.Figure at 0x7f7988065c50>"
      ]
     },
     "metadata": {},
     "output_type": "display_data"
    }
   ],
   "source": [
    "# Fit bivariate Gaussian on the original data and compute confidence intervals, error bars using bootstrapping\n",
    "pt = progress_timer(description= 'boostrapping', n_iter=5000)\n",
    "\n",
    "#Gaussian Mixture Model \n",
    "#fit GMM\n",
    "gmm = GMM(n_components=2).fit(data_mat)\n",
    "cov = gmm.covariances_\n",
    "\n",
    "eigval1, eigval2, eigvec1, eigvec2 = weight_set(cov)\n",
    "orig_angle = angle(eigvec1, eigvec2) # angle between the main eigenvectors \n",
    "\n",
    "# boostrapping\n",
    "def bstr(data, n=5000):\n",
    "    \"\"\"\n",
    "    Given data matrix, perform bootstrapping by collecting n samples (default = 5000) and return the \n",
    "    error rate for the mean of the data. Assume that the given data matrix is numpy array\n",
    "    \"\"\"    \n",
    "    perc_one = list() # hold proprtion of largest eigenvalues for component 1\n",
    "    perc_two = list() # hold propotion of largest eigenvalues for component 2\n",
    "    \n",
    "    vec_one = list() # hold eigenvectors corresponding to largest eigenvalue for component 1\n",
    "    vec_two = list() # hold eigenvectors corresponding to largest eigenvalue for component 2\n",
    "    \n",
    "    angles = list() # hold angle between main eigenvectors of two Gaussian component\n",
    "    \n",
    "    for i in range(n):\n",
    "        # resample from the original data matrix\n",
    "        resampled_mat = data[np.random.randint(0, data.shape[0])]\n",
    "        \n",
    "        for j in range(data.shape[0]-1):\n",
    "            data_resample = data[np.random.randint(0, data.shape[0])]\n",
    "            resampled_mat = np.vstack((resampled_mat, data_resample))\n",
    "    \n",
    "        assert resampled_mat.shape == data.shape # check if the resampled matrix has same dimension as data matrix\n",
    "        \n",
    "        gmm_resampled = GMM(n_components=2).fit(resampled_mat)\n",
    "        gmm_cov = gmm_resampled.covariances_\n",
    "        \n",
    "        eig_val1, eig_val2, eig_vec1, eig_vec2 = weight_set(gmm_cov)\n",
    "        \n",
    "        perc_one.append(eig_val1)\n",
    "        perc_two.append(eig_val2)\n",
    "        vec_one.append(eig_vec1)\n",
    "        vec_two.append(eig_vec2)\n",
    "        angles.append(angle(eig_vec1, eig_vec2))\n",
    "        \n",
    "        pt.update()\n",
    "        \n",
    "    vec_one = np.mean(vec_one, axis=0)\n",
    "    vec_two = np.mean(vec_two, axis=0)\n",
    "        \n",
    "    return perc_one, perc_two, vec_one, vec_two, angles\n",
    "\n",
    "perc_one, perc_two, vec_one, vec_two, bstr_angle = bstr(data_mat)\n",
    "pt.finish()\n",
    "\n",
    "# plot the histogram for eigenvalues and angles\n",
    "num_bins = 200\n",
    "itera = [perc_one, perc_two, bstr_angle]\n",
    "for i in range(len(itera)):\n",
    "    n, bins, patches = plt.hist(itera[i], num_bins, normed=1, facecolor='blue', alpha=0.5)\n",
    "    if i == 0:\n",
    "        plt.title('histogram for bootstrapped eigenvalues of component 1')\n",
    "        plt.axvline(x=eigval1)\n",
    "    elif i == 1:\n",
    "        plt.title('histogram for bootstrapped eigenvalues of component 2')\n",
    "        plt.axvline(x=eigval2)\n",
    "    else:\n",
    "        plt.title('histogram for bootstrapped angles')\n",
    "        plt.axvline(x=orig_angle)\n",
    "    \n",
    "    plt.legend()\n",
    "    plt.show()\n",
    "    plt.close()\n"
   ]
  },
  {
   "cell_type": "code",
   "execution_count": null,
   "metadata": {
    "collapsed": true
   },
   "outputs": [],
   "source": []
  }
 ],
 "metadata": {
  "kernelspec": {
   "display_name": "Python 3",
   "language": "python",
   "name": "python3"
  },
  "language_info": {
   "codemirror_mode": {
    "name": "ipython",
    "version": 3
   },
   "file_extension": ".py",
   "mimetype": "text/x-python",
   "name": "python",
   "nbconvert_exporter": "python",
   "pygments_lexer": "ipython3",
   "version": "3.6.3"
  }
 },
 "nbformat": 4,
 "nbformat_minor": 2
}
