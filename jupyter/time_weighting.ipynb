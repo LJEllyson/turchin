{
 "cells": [
  {
   "cell_type": "code",
   "execution_count": 24,
   "metadata": {
    "collapsed": true
   },
   "outputs": [],
   "source": [
    "import pandas as pd \n",
    "import numpy as np\n",
    "from matplotlib import pyplot as plt, cm as cm, mlab as mlab\n",
    "from sklearn.preprocessing import StandardScaler\n",
    "import seaborn as sns; sns.set()\n",
    "from sklearn.mixture import GaussianMixture as GMM\n",
    "import math"
   ]
  },
  {
   "cell_type": "code",
   "execution_count": 9,
   "metadata": {
    "collapsed": true
   },
   "outputs": [],
   "source": [
    "# read csv/excel data files \n",
    "pnas_data1 = pd.read_csv('/home/jaeweon/research/data/pnas_data1.csv')\n",
    "\n",
    "pd.set_option('display.max_columns', None)\n",
    "pd.set_option('display.max_rows', None)"
   ]
  },
  {
   "cell_type": "code",
   "execution_count": 11,
   "metadata": {
    "collapsed": true
   },
   "outputs": [],
   "source": [
    "def svd(data):\n",
    "    \"\"\"\n",
    "    perform singular value decomposition on the given data matrix\n",
    "    \"\"\"\n",
    "    #center the data\n",
    "    mean = np.mean(data, axis=0)\n",
    "    data -= mean\n",
    "    \n",
    "    P, D, Q = np.linalg.svd(data, full_matrices=False)\n",
    "    \n",
    "    return P, D, Q"
   ]
  },
  {
   "cell_type": "code",
   "execution_count": 12,
   "metadata": {
    "collapsed": true
   },
   "outputs": [],
   "source": [
    "# format data \n",
    "\n",
    "# extract 9 Complexity Characteristic variables \n",
    "features = ['PolPop', 'PolTerr', 'CapPop', 'levels', 'government','infrastr', 'writing', 'texts', 'money']\n",
    "\n",
    "# take subset of original data table with 9 CCs and change it into numpy array \n",
    "data_mat = pnas_data1.loc[:, features].values\n",
    "scaled = StandardScaler().fit_transform(data_mat)\n",
    "P, D, Q = svd(scaled)\n",
    "data = np.matmul(scaled, Q.T) # data matrix is obtained by multiplying initial data matrix with SVD column matrix"
   ]
  },
  {
   "cell_type": "code",
   "execution_count": 48,
   "metadata": {},
   "outputs": [
    {
     "data": {
      "image/png": "[encoded data removed]",
      "text/plain": [
       "<matplotlib.figure.Figure at 0x7fd738372518>"
      ]
     },
     "metadata": {},
     "output_type": "display_data"
    },
    {
     "data": {
      "image/png": "[encoded data removed]",
      "text/plain": [
       "<matplotlib.figure.Figure at 0x7fd7380893c8>"
      ]
     },
     "metadata": {},
     "output_type": "display_data"
    }
   ],
   "source": [
    "# compute the average temporal gap size for each data point (with respect to regions)\n",
    "temporal_gap = dict()\n",
    "weighted = list()\n",
    "unique_region = pnas_data1.NGA.unique().tolist()\n",
    "\n",
    "for impute_step in range(1, 21):\n",
    "    for nga in unique_region:\n",
    "        times = sorted(pnas_data1[pnas_data1.NGA == nga].Time.unique().tolist())\n",
    "        for time in range(len(times)):\n",
    "            idx = pnas_data1.index[(pnas_data1.irep == impute_step) & (pnas_data1.NGA == nga) & \n",
    "                                    (pnas_data1.Time == times[time])].tolist()[0]\n",
    "            if time == 0: # the data point is the first appearance of a polity in the nga\n",
    "                temporal_gap[idx] = int(round((times[time+1]-times[time])))\n",
    "            elif time == len(times)-1: # the data point is the last time period of the recorded nga\n",
    "                temporal_gap[idx] = int(round((times[time] - times[time-1])))\n",
    "            else: \n",
    "                temporal_gap[idx] = int(round((-times[time-1]+times[time+1])/2))\n",
    "\n",
    "assert len(temporal_gap.keys()) == 8280 # temporal_gap must contain all 8280 points\n",
    "\n",
    "# wegiht the occurence of each data point by their respective temporal gap size\n",
    "for i in range(len(data[:,0])):\n",
    "    weighted.extend(temporal_gap[i]*[data[:,0][i]])\n",
    "    \n",
    "num_bins = 200\n",
    "n, bins, patches = plt.hist(weighted, num_bins, normed=False, facecolor='blue', alpha=0.5)\n",
    "\n",
    "plt.title('weighted histogram')\n",
    "plt.show()\n",
    "plt.close()\n",
    "\n",
    "n, bins, patches = plt.hist(data[:,0], num_bins, normed=False, facecolor='blue', alpha=0.5)\n",
    "\n",
    "plt.title('original histogram')\n",
    "plt.show()\n",
    "plt.close()\n"
   ]
  },
  {
   "cell_type": "code",
   "execution_count": 36,
   "metadata": {},
   "outputs": [
    {
     "name": "stdout",
     "output_type": "stream",
     "text": [
      "[[1, 1, 1], [2, 2, 2], [3, 3, 3]]\n"
     ]
    }
   ],
   "source": []
  },
  {
   "cell_type": "code",
   "execution_count": null,
   "metadata": {
    "collapsed": true
   },
   "outputs": [],
   "source": []
  }
 ],
 "metadata": {
  "kernelspec": {
   "display_name": "Python 3",
   "language": "python",
   "name": "python3"
  },
  "language_info": {
   "codemirror_mode": {
    "name": "ipython",
    "version": 3
   },
   "file_extension": ".py",
   "mimetype": "text/x-python",
   "name": "python",
   "nbconvert_exporter": "python",
   "pygments_lexer": "ipython3",
   "version": "3.6.3"
  }
 },
 "nbformat": 4,
 "nbformat_minor": 2
}
