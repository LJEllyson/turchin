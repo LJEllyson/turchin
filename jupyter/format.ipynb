{
 "cells": [
  {
   "cell_type": "code",
   "execution_count": 2,
   "metadata": {
    "collapsed": true
   },
   "outputs": [],
   "source": [
    "import pandas as pd\n",
    "import numpy as np"
   ]
  },
  {
   "cell_type": "code",
   "execution_count": 86,
   "metadata": {},
   "outputs": [
    {
     "name": "stdout",
     "output_type": "stream",
     "text": [
      "(28175, 13)\n"
     ]
    }
   ],
   "source": [
    "raw = pd.read_excel('/home/jaeweon/research/data/raw.xlsx', encoding = 'ISO-8859-1')\n",
    "raw_corrected = pd.read_csv('/home/jaeweon/research/data/SCdat.csv', encoding = 'ISO-8859-1')\n"
   ]
  },
  {
   "cell_type": "code",
   "execution_count": 87,
   "metadata": {
    "collapsed": true
   },
   "outputs": [],
   "source": [
    "pd.set_option('display.max_columns', None)\n",
    "pd.set_option('display.max_rows', None)"
   ]
  },
  {
   "cell_type": "code",
   "execution_count": 88,
   "metadata": {
    "collapsed": true
   },
   "outputs": [],
   "source": [
    "feature_var = []"
   ]
  },
  {
   "cell_type": "code",
   "execution_count": 108,
   "metadata": {
    "scrolled": true
   },
   "outputs": [
    {
     "name": "stdout",
     "output_type": "stream",
     "text": [
      "Subsection\n",
      "Bureaucracy Characteristics            [Full-time bureaucrats, Source of support, Exa...\n",
      "Bureaucracy characteristics            [Full-time bureaucrats, Source of support, Exa...\n",
      "Hierarchical Complexity                [Settlement hierarchy, Administrative levels, ...\n",
      "Information                            [Length, Area, Volume, Weight, Time, Geometric...\n",
      "Law                                    [Formal legal code, Judges, Courts, Profession...\n",
      "Other                                  [Articles, Tokens, Precious metals, Foreign co...\n",
      "Professions                            [Occupational complexity, Professional militar...\n",
      "Social Scale                           [Polity territory, Polity Population, Populati...\n",
      "Specialized Buildings: Polity Owned    [Communal buildings, Special purpose house, Ut...\n",
      "Specialized Buildings: polity owned    [Communal buildings, Special purpose house, Ut...\n",
      "Name: Variable, dtype: object\n",
      "['Full-time bureaucrats', 'Source of support', 'Examination system', 'Merit promotion', 'Specialized government buildings']\n",
      "['Full-time bureaucrats', 'Source of support', 'Examination system', 'Merit promotion', 'Specialized government buildings']\n",
      "['Settlement hierarchy', 'Administrative levels', 'Religious levels', 'Military levels']\n",
      "['Length', 'Area', 'Volume', 'Weight', 'Time', 'Geometrical', 'Other', 'Mnemonic devices', 'Nonwritten records', 'Written records', 'Script', 'Non-phonetic alphabetic writing', 'Phonetic alphabetic writing', 'Lists tables and classifications', 'Calendar', 'Sacred Texts', 'Religious literature', 'Practical literature', 'History', 'Philosophy', 'Scientific literature', 'Fiction', 'Non-phonetic writing', 'Time_1', 'Non-phonetic  writing', 'Non written records', 'Philosophy_1', 'Written records_1']\n",
      "['Formal legal code', 'Judges', 'Courts', 'Professional Lawyers', 'Professional lawyers']\n",
      "['Articles', 'Tokens', 'Precious metals', 'Foreign coins', 'Indigenous coins', 'Paper currency', 'Debt and credit structures', 'Store of wealth', 'Couriers', 'Postal stations', 'General postal service', 'Fastest individual communication']\n",
      "['Occupational complexity', 'Professional military officers', 'Professional soldiers', 'Professional priesthood']\n",
      "['Polity territory', 'Polity Population', 'Population of the largest settlement', 'Largest communication distance', 'Population of the largest settlement_1']\n",
      "['Communal buildings', 'Special purpose house', 'Utilitarian public buildings', 'irrigation systems', 'drinking water supply systems', 'markets', 'food storage sites', 'Symbolic buildings', 'Entertainment buildings', 'Knowledge/information buildings', 'Roads', 'Bridges', 'Canals', 'Ports', 'height', 'extent', 'Special purpose sites', 'Ceremonial site', 'Burial site', 'Mines or quarries']\n",
      "['Communal buildings', 'Special purpose house', 'Utilitarian public buildings', 'irrigation systems', 'drinking water supply systems', 'markets', 'food storage sites', 'Symbolic buildings', 'Entertainment buildings', 'Knowledge/information buildings', 'Roads', 'Bridges', 'Canals', 'Ports', 'Special purpose sites', 'Ceremonial site', 'Burial site', 'Trading emporia', 'Enclosures', 'Mines or quarries', 'Other site', 'height', 'extent', 'Symbolic building', 'cost', 'Drinking water supply systems', 'Markets', 'Food storage sites', 'Irrigation systems']\n"
     ]
    }
   ],
   "source": [
    "var = raw.groupby(['NGA', 'Polity']).agg(['count'])\n",
    "\n",
    "# drop unnecessary columns\n",
    "raw_filt = raw.drop(['Section', 'Comment', 'Fact Type', 'Value Note', 'Date Note'], axis=1) \n",
    "# unique variables in the dataset \n",
    "unique_var = raw_filt.Variable.unique()\n",
    "\n",
    "#parse the table\n",
    "#obtain index set of any rows where variable is ra, editor, or expert \n",
    "parse_idx = raw_filt.index[raw_filt['Variable'].isin(['RA', 'Editor', 'Expert'])].tolist()\n",
    "\n",
    "# obtain sets of rows that describe independent polities \n",
    "\n",
    "\n",
    "\n",
    "\n",
    "a = raw.groupby(['Subsection'])['Variable'].unique()\n",
    "print(a)\n",
    "for i in range(len(a)):\n",
    "    print(a[i].tolist())\n"
   ]
  },
  {
   "cell_type": "code",
   "execution_count": null,
   "metadata": {
    "collapsed": true
   },
   "outputs": [],
   "source": []
  },
  {
   "cell_type": "code",
   "execution_count": null,
   "metadata": {
    "collapsed": true
   },
   "outputs": [],
   "source": []
  }
 ],
 "metadata": {
  "kernelspec": {
   "display_name": "Python 3",
   "language": "python",
   "name": "python3"
  },
  "language_info": {
   "codemirror_mode": {
    "name": "ipython",
    "version": 3
   },
   "file_extension": ".py",
   "mimetype": "text/x-python",
   "name": "python",
   "nbconvert_exporter": "python",
   "pygments_lexer": "ipython3",
   "version": "3.6.3"
  }
 },
 "nbformat": 4,
 "nbformat_minor": 2
}
