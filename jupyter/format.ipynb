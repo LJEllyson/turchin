{
 "cells": [
  {
   "cell_type": "code",
   "execution_count": 128,
   "metadata": {
    "collapsed": true
   },
   "outputs": [],
   "source": [
    "import pandas as pd\n",
    "import numpy as np\n"
   ]
  },
  {
   "cell_type": "code",
   "execution_count": 86,
   "metadata": {},
   "outputs": [
    {
     "name": "stdout",
     "output_type": "stream",
     "text": [
      "(28175, 13)\n"
     ]
    }
   ],
   "source": [
    "raw = pd.read_excel('/home/jaeweon/research/data/raw.xlsx', encoding = 'ISO-8859-1')\n",
    "raw_corrected = pd.read_csv('/home/jaeweon/research/data/SCdat.csv', encoding = 'ISO-8859-1')\n"
   ]
  },
  {
   "cell_type": "code",
   "execution_count": 87,
   "metadata": {
    "collapsed": true
   },
   "outputs": [],
   "source": [
    "pd.set_option('display.max_columns', None)\n",
    "pd.set_option('display.max_rows', None)"
   ]
  },
  {
   "cell_type": "code",
   "execution_count": 88,
   "metadata": {
    "collapsed": true
   },
   "outputs": [],
   "source": [
    "feature_var = []"
   ]
  },
  {
   "cell_type": "code",
   "execution_count": 127,
   "metadata": {
    "scrolled": true
   },
   "outputs": [
    {
     "name": "stdout",
     "output_type": "stream",
     "text": [
      "['Ghanaian Coast', 'Niger Inland Delta', 'Upper Egypt', 'Iceland', 'Paris Basin', 'Yemeni Coastal Plain', 'Konya Plain', 'Susiana', 'Garo Hills', 'Orkhon Valley', 'Sogdiana', 'Kapuasi Basin', 'Latium', 'Cambodian Basin', 'Kachi Plain', 'Southern China Hills', 'Middle Yellow River Valley', 'Finger Lakes', 'Central Java', 'Kansai', 'Lena River Valley', 'Deccan', 'Lowland Andes', 'Cuzco', 'North Colombia', 'Oro PNG', 'Cahokia', 'Big Island Hawaii', 'Valley of Oaxaca', 'Chuuk Islands']\n"
     ]
    }
   ],
   "source": [
    "var = raw.groupby(['NGA', 'Polity']).agg(['count'])\n",
    "\n",
    "# drop unnecessary columns\n",
    "raw_filt = raw.drop(['Section', 'Comment', 'Fact Type', 'Value Note', 'Date Note'], axis=1) \n",
    "# unique variables in the dataset \n",
    "unique_var = raw_filt.Variable.unique()\n",
    "\n",
    "#parse the table\n",
    "#obtain index set of any rows where variable is ra, editor, or expert \n",
    "parse_idx = raw_filt.index[raw_filt['Variable'].isin(['RA', 'Editor', 'Expert'])].tolist()\n",
    "\n",
    "# obtain sets of rows that describe independent polities \n",
    "\n",
    "\n",
    "\n",
    "\n",
    "a = raw.groupby(['Subsection'])['Variable'].unique()\n",
    "unique_NGA = raw_filt.NGA.unique().tolist()\n",
    "print(unique_NGA)\n",
    "\n",
    "df = pd.DataFrame(unique_NGA, columns=[\"NGAs\"])\n",
    "df.to_csv('nga.csv', index=False)\n"
   ]
  },
  {
   "cell_type": "code",
   "execution_count": null,
   "metadata": {
    "collapsed": true
   },
   "outputs": [],
   "source": []
  },
  {
   "cell_type": "code",
   "execution_count": null,
   "metadata": {
    "collapsed": true
   },
   "outputs": [],
   "source": []
  }
 ],
 "metadata": {
  "kernelspec": {
   "display_name": "Python 3",
   "language": "python",
   "name": "python3"
  },
  "language_info": {
   "codemirror_mode": {
    "name": "ipython",
    "version": 3
   },
   "file_extension": ".py",
   "mimetype": "text/x-python",
   "name": "python",
   "nbconvert_exporter": "python",
   "pygments_lexer": "ipython3",
   "version": "3.6.3"
  }
 },
 "nbformat": 4,
 "nbformat_minor": 2
}
