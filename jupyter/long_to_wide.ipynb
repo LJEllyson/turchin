{
 "cells": [
  {
   "cell_type": "code",
   "execution_count": 2,
   "metadata": {
    "collapsed": true
   },
   "outputs": [],
   "source": [
    "import pandas as pd\n",
    "import numpy as np"
   ]
  },
  {
   "cell_type": "code",
   "execution_count": 47,
   "metadata": {
    "collapsed": true
   },
   "outputs": [],
   "source": [
    "raw = pd.read_excel('/home/jaeweon/research/data/raw.xlsx', encoding = 'ISO-8859-1')\n",
    "raw_corrected = pd.read_csv('/home/jaeweon/research/data/SCdat.csv', encoding = 'ISO-8859-1')"
   ]
  },
  {
   "cell_type": "code",
   "execution_count": 45,
   "metadata": {
    "collapsed": true
   },
   "outputs": [],
   "source": [
    "pd.set_option('display.max_columns', None)\n",
    "pd.set_option('display.max_rows', None)"
   ]
  },
  {
   "cell_type": "code",
   "execution_count": 54,
   "metadata": {},
   "outputs": [
    {
     "name": "stdout",
     "output_type": "stream",
     "text": [
      "['Settlement hierarchy' 'Administrative levels' 'Religious levels'\n",
      " 'Military levels' 'Occupational complexity'\n",
      " 'Professional military officers' 'Professional soldiers'\n",
      " 'Professional priesthood' 'Full-time bureaucrats' 'Source of support'\n",
      " 'Examination system' 'Merit promotion' 'Specialized government buildings'\n",
      " 'Formal legal code' 'Judges' 'Courts' 'Professional Lawyers'\n",
      " 'Communal buildings' 'Special purpose house'\n",
      " 'Utilitarian public buildings' 'irrigation systems'\n",
      " 'drinking water supply systems' 'markets' 'food storage sites'\n",
      " 'Symbolic buildings' 'Entertainment buildings'\n",
      " 'Knowledge/information buildings' 'Roads' 'Bridges' 'Canals' 'Ports'\n",
      " 'Special purpose sites' 'Ceremonial site' 'Burial site' 'Trading emporia'\n",
      " 'Enclosures' 'Mines or quarries' 'Other site' 'Length' 'Area' 'Volume'\n",
      " 'Weight' 'Time' 'Geometrical' 'Other' 'Mnemonic devices'\n",
      " 'Nonwritten records' 'Written records' 'Script'\n",
      " 'Non-phonetic alphabetic writing' 'Phonetic alphabetic writing'\n",
      " 'Lists tables and classifications' 'Calendar' 'Sacred Texts'\n",
      " 'Religious literature' 'Practical literature' 'History' 'Philosophy'\n",
      " 'Scientific literature' 'Fiction' 'Articles' 'Tokens' 'Precious metals'\n",
      " 'Foreign coins' 'Indigenous coins' 'Paper currency'\n",
      " 'Debt and credit structures' 'Store of wealth' 'Couriers'\n",
      " 'Postal stations' 'General postal service' 'Polity territory'\n",
      " 'Polity Population' 'Population of the largest settlement'\n",
      " 'Largest communication distance' 'Fastest individual communication'\n",
      " 'Non-phonetic writing' 'height' 'extent' 'Symbolic building' 'cost'\n",
      " 'Drinking water supply systems' 'Markets' 'Food storage sites' 'Expert'\n",
      " 'Population of the largest settlement_1' 'Irrigation systems' 'Time_1'\n",
      " 'Non-phonetic  writing' 'Professional lawyers' 'Non written records'\n",
      " 'Philosophy_1' 'Written records_1']\n",
      "28175\n"
     ]
    }
   ],
   "source": [
    "var = raw.groupby(['NGA', 'Polity']).agg(['count'])\n",
    "\n",
    "# drop unnecessary columns\n",
    "raw_filt = raw.drop(['Section', 'Comment', 'Fact Type', 'Value Note', 'Date Note'], axis=1) \n",
    "\n",
    "# drop unncessary variables\n",
    "raw_filt = raw_filt[(raw_filt.Variable != 'RA') & (raw_filt.Variable != 'Editor')]\n",
    "\n",
    "# unique variables in the dataset \n",
    "unique_var = raw_filt.Variable.unique()\n",
    "print((unique_var))\n",
    "\n",
    "print(len(raw))\n",
    "\n",
    "# pivot = pd.pivot_table(df,index = ['NGA', 'Polity'], columns='Polity')\n",
    "# print(pivot)"
   ]
  },
  {
   "cell_type": "code",
   "execution_count": null,
   "metadata": {
    "collapsed": true
   },
   "outputs": [],
   "source": []
  }
 ],
 "metadata": {
  "kernelspec": {
   "display_name": "Python 3",
   "language": "python",
   "name": "python3"
  },
  "language_info": {
   "codemirror_mode": {
    "name": "ipython",
    "version": 3
   },
   "file_extension": ".py",
   "mimetype": "text/x-python",
   "name": "python",
   "nbconvert_exporter": "python",
   "pygments_lexer": "ipython3",
   "version": "3.6.3"
  }
 },
 "nbformat": 4,
 "nbformat_minor": 2
}
